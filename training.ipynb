{
  "nbformat": 4,
  "nbformat_minor": 0,
  "metadata": {
    "colab": {
      "provenance": [],
      "gpuType": "V28"
    },
    "kernelspec": {
      "name": "python3",
      "display_name": "Python 3"
    },
    "language_info": {
      "name": "python"
    },
    "accelerator": "TPU"
  },
  "cells": [
    {
      "cell_type": "markdown",
      "source": [
        "#Imports"
      ],
      "metadata": {
        "id": "r_5OHWTxcTNl"
      }
    },
    {
      "cell_type": "code",
      "execution_count": null,
      "metadata": {
        "id": "yrj6M4x-bamN"
      },
      "outputs": [],
      "source": [
        "import pandas as pd\n",
        "import numpy as np\n",
        "\n",
        "from sklearn.model_selection import train_test_split, StratifiedKFold, GridSearchCV\n",
        "from sklearn.ensemble import RandomForestClassifier\n",
        "from sklearn import metrics\n",
        "from sklearn.linear_model import LogisticRegression\n",
        "from sklearn.svm import SVC\n",
        "from sklearn.neighbors import KNeighborsClassifier\n",
        "from sklearn.tree import DecisionTreeClassifier\n",
        "from sklearn.ensemble import (\n",
        "    BaggingClassifier,\n",
        "    RandomForestClassifier,\n",
        "    ExtraTreesClassifier,\n",
        "    AdaBoostClassifier,\n",
        "    GradientBoostingClassifier,\n",
        "    HistGradientBoostingClassifier,\n",
        ")\n",
        "from sklearn.naive_bayes import GaussianNB\n",
        "from sklearn.neural_network import MLPClassifier\n",
        "from tqdm import tqdm\n",
        "import matplotlib.pyplot as plt\n",
        "\n",
        "train = pd.read_parquet('processed_train.parquet')\n",
        "test = pd.read_parquet('test.parquet')\n"
      ]
    },
    {
      "cell_type": "markdown",
      "source": [
        "1. traintestsplit для валидации\n",
        "+ еще надо на фолды бить\n",
        "2. подбор гиперпараметров\n",
        "3. Надо ли тест менять под трейн?\n",
        "4. модельки: КНН, лес, логрег = вероятности"
      ],
      "metadata": {
        "id": "xtF1b07TbsgW"
      }
    },
    {
      "cell_type": "code",
      "source": [
        "train.describe()"
      ],
      "metadata": {
        "colab": {
          "base_uri": "https://localhost:8080/",
          "height": 321
        },
        "id": "kuO2Sz0k_bXj",
        "outputId": "649ed788-00d9-4581-d1be-bff7d5b06976"
      },
      "execution_count": null,
      "outputs": [
        {
          "output_type": "execute_result",
          "data": {
            "text/plain": [
              "       ('average_values',)  ('moda_values',)  ('median_values',)  \\\n",
              "count        110492.000000     110492.000000       110492.000000   \n",
              "mean              0.776990          0.455403            0.515910   \n",
              "std               0.090396          0.091140            0.101452   \n",
              "min               0.000000          0.000000            0.000000   \n",
              "25%               0.725815          0.394523            0.446620   \n",
              "50%               0.788846          0.446247            0.514579   \n",
              "75%               0.832545          0.514199            0.582538   \n",
              "max               1.000000          1.000000            1.000000   \n",
              "\n",
              "       ('variance_values',)  ('std_values',)  ('average_days',)  \\\n",
              "count         110492.000000    110492.000000      110492.000000   \n",
              "mean               0.469685         0.536357           0.293241   \n",
              "std                0.191232         0.185307           0.209105   \n",
              "min                0.000000         0.000000           0.000000   \n",
              "25%                0.319058         0.393280           0.119588   \n",
              "50%                0.458197         0.535568           0.260904   \n",
              "75%                0.602290         0.670963           0.413066   \n",
              "max                1.000000         1.000000           1.000000   \n",
              "\n",
              "       ('moda_days',)  ('median_days',)  ('variance_days',)  ('std_days',)  \\\n",
              "count   110492.000000     110492.000000       110492.000000  110492.000000   \n",
              "mean         0.103652          0.292771            0.394177       0.478209   \n",
              "std          0.196546          0.209145            0.255294       0.251190   \n",
              "min          0.000000          0.000000            0.000000       0.000000   \n",
              "25%          0.000000          0.118929            0.182574       0.271784   \n",
              "50%          0.000000          0.260714            0.329917       0.441036   \n",
              "75%          0.115044          0.412143            0.560359       0.661315   \n",
              "max          1.000000          1.000000            1.000000       1.000000   \n",
              "\n",
              "          ('label',)  \n",
              "count  110492.000000  \n",
              "mean        0.500000  \n",
              "std         0.500002  \n",
              "min         0.000000  \n",
              "25%         0.000000  \n",
              "50%         0.500000  \n",
              "75%         1.000000  \n",
              "max         1.000000  "
            ],
            "text/html": [
              "\n",
              "  <div id=\"df-e7da3d83-381f-4b03-aaae-38dcd82ecff1\" class=\"colab-df-container\">\n",
              "    <div>\n",
              "<style scoped>\n",
              "    .dataframe tbody tr th:only-of-type {\n",
              "        vertical-align: middle;\n",
              "    }\n",
              "\n",
              "    .dataframe tbody tr th {\n",
              "        vertical-align: top;\n",
              "    }\n",
              "\n",
              "    .dataframe thead th {\n",
              "        text-align: right;\n",
              "    }\n",
              "</style>\n",
              "<table border=\"1\" class=\"dataframe\">\n",
              "  <thead>\n",
              "    <tr style=\"text-align: right;\">\n",
              "      <th></th>\n",
              "      <th>('average_values',)</th>\n",
              "      <th>('moda_values',)</th>\n",
              "      <th>('median_values',)</th>\n",
              "      <th>('variance_values',)</th>\n",
              "      <th>('std_values',)</th>\n",
              "      <th>('average_days',)</th>\n",
              "      <th>('moda_days',)</th>\n",
              "      <th>('median_days',)</th>\n",
              "      <th>('variance_days',)</th>\n",
              "      <th>('std_days',)</th>\n",
              "      <th>('label',)</th>\n",
              "    </tr>\n",
              "  </thead>\n",
              "  <tbody>\n",
              "    <tr>\n",
              "      <th>count</th>\n",
              "      <td>110492.000000</td>\n",
              "      <td>110492.000000</td>\n",
              "      <td>110492.000000</td>\n",
              "      <td>110492.000000</td>\n",
              "      <td>110492.000000</td>\n",
              "      <td>110492.000000</td>\n",
              "      <td>110492.000000</td>\n",
              "      <td>110492.000000</td>\n",
              "      <td>110492.000000</td>\n",
              "      <td>110492.000000</td>\n",
              "      <td>110492.000000</td>\n",
              "    </tr>\n",
              "    <tr>\n",
              "      <th>mean</th>\n",
              "      <td>0.776990</td>\n",
              "      <td>0.455403</td>\n",
              "      <td>0.515910</td>\n",
              "      <td>0.469685</td>\n",
              "      <td>0.536357</td>\n",
              "      <td>0.293241</td>\n",
              "      <td>0.103652</td>\n",
              "      <td>0.292771</td>\n",
              "      <td>0.394177</td>\n",
              "      <td>0.478209</td>\n",
              "      <td>0.500000</td>\n",
              "    </tr>\n",
              "    <tr>\n",
              "      <th>std</th>\n",
              "      <td>0.090396</td>\n",
              "      <td>0.091140</td>\n",
              "      <td>0.101452</td>\n",
              "      <td>0.191232</td>\n",
              "      <td>0.185307</td>\n",
              "      <td>0.209105</td>\n",
              "      <td>0.196546</td>\n",
              "      <td>0.209145</td>\n",
              "      <td>0.255294</td>\n",
              "      <td>0.251190</td>\n",
              "      <td>0.500002</td>\n",
              "    </tr>\n",
              "    <tr>\n",
              "      <th>min</th>\n",
              "      <td>0.000000</td>\n",
              "      <td>0.000000</td>\n",
              "      <td>0.000000</td>\n",
              "      <td>0.000000</td>\n",
              "      <td>0.000000</td>\n",
              "      <td>0.000000</td>\n",
              "      <td>0.000000</td>\n",
              "      <td>0.000000</td>\n",
              "      <td>0.000000</td>\n",
              "      <td>0.000000</td>\n",
              "      <td>0.000000</td>\n",
              "    </tr>\n",
              "    <tr>\n",
              "      <th>25%</th>\n",
              "      <td>0.725815</td>\n",
              "      <td>0.394523</td>\n",
              "      <td>0.446620</td>\n",
              "      <td>0.319058</td>\n",
              "      <td>0.393280</td>\n",
              "      <td>0.119588</td>\n",
              "      <td>0.000000</td>\n",
              "      <td>0.118929</td>\n",
              "      <td>0.182574</td>\n",
              "      <td>0.271784</td>\n",
              "      <td>0.000000</td>\n",
              "    </tr>\n",
              "    <tr>\n",
              "      <th>50%</th>\n",
              "      <td>0.788846</td>\n",
              "      <td>0.446247</td>\n",
              "      <td>0.514579</td>\n",
              "      <td>0.458197</td>\n",
              "      <td>0.535568</td>\n",
              "      <td>0.260904</td>\n",
              "      <td>0.000000</td>\n",
              "      <td>0.260714</td>\n",
              "      <td>0.329917</td>\n",
              "      <td>0.441036</td>\n",
              "      <td>0.500000</td>\n",
              "    </tr>\n",
              "    <tr>\n",
              "      <th>75%</th>\n",
              "      <td>0.832545</td>\n",
              "      <td>0.514199</td>\n",
              "      <td>0.582538</td>\n",
              "      <td>0.602290</td>\n",
              "      <td>0.670963</td>\n",
              "      <td>0.413066</td>\n",
              "      <td>0.115044</td>\n",
              "      <td>0.412143</td>\n",
              "      <td>0.560359</td>\n",
              "      <td>0.661315</td>\n",
              "      <td>1.000000</td>\n",
              "    </tr>\n",
              "    <tr>\n",
              "      <th>max</th>\n",
              "      <td>1.000000</td>\n",
              "      <td>1.000000</td>\n",
              "      <td>1.000000</td>\n",
              "      <td>1.000000</td>\n",
              "      <td>1.000000</td>\n",
              "      <td>1.000000</td>\n",
              "      <td>1.000000</td>\n",
              "      <td>1.000000</td>\n",
              "      <td>1.000000</td>\n",
              "      <td>1.000000</td>\n",
              "      <td>1.000000</td>\n",
              "    </tr>\n",
              "  </tbody>\n",
              "</table>\n",
              "</div>\n",
              "    <div class=\"colab-df-buttons\">\n",
              "\n",
              "  <div class=\"colab-df-container\">\n",
              "    <button class=\"colab-df-convert\" onclick=\"convertToInteractive('df-e7da3d83-381f-4b03-aaae-38dcd82ecff1')\"\n",
              "            title=\"Convert this dataframe to an interactive table.\"\n",
              "            style=\"display:none;\">\n",
              "\n",
              "  <svg xmlns=\"http://www.w3.org/2000/svg\" height=\"24px\" viewBox=\"0 -960 960 960\">\n",
              "    <path d=\"M120-120v-720h720v720H120Zm60-500h600v-160H180v160Zm220 220h160v-160H400v160Zm0 220h160v-160H400v160ZM180-400h160v-160H180v160Zm440 0h160v-160H620v160ZM180-180h160v-160H180v160Zm440 0h160v-160H620v160Z\"/>\n",
              "  </svg>\n",
              "    </button>\n",
              "\n",
              "  <style>\n",
              "    .colab-df-container {\n",
              "      display:flex;\n",
              "      gap: 12px;\n",
              "    }\n",
              "\n",
              "    .colab-df-convert {\n",
              "      background-color: #E8F0FE;\n",
              "      border: none;\n",
              "      border-radius: 50%;\n",
              "      cursor: pointer;\n",
              "      display: none;\n",
              "      fill: #1967D2;\n",
              "      height: 32px;\n",
              "      padding: 0 0 0 0;\n",
              "      width: 32px;\n",
              "    }\n",
              "\n",
              "    .colab-df-convert:hover {\n",
              "      background-color: #E2EBFA;\n",
              "      box-shadow: 0px 1px 2px rgba(60, 64, 67, 0.3), 0px 1px 3px 1px rgba(60, 64, 67, 0.15);\n",
              "      fill: #174EA6;\n",
              "    }\n",
              "\n",
              "    .colab-df-buttons div {\n",
              "      margin-bottom: 4px;\n",
              "    }\n",
              "\n",
              "    [theme=dark] .colab-df-convert {\n",
              "      background-color: #3B4455;\n",
              "      fill: #D2E3FC;\n",
              "    }\n",
              "\n",
              "    [theme=dark] .colab-df-convert:hover {\n",
              "      background-color: #434B5C;\n",
              "      box-shadow: 0px 1px 3px 1px rgba(0, 0, 0, 0.15);\n",
              "      filter: drop-shadow(0px 1px 2px rgba(0, 0, 0, 0.3));\n",
              "      fill: #FFFFFF;\n",
              "    }\n",
              "  </style>\n",
              "\n",
              "    <script>\n",
              "      const buttonEl =\n",
              "        document.querySelector('#df-e7da3d83-381f-4b03-aaae-38dcd82ecff1 button.colab-df-convert');\n",
              "      buttonEl.style.display =\n",
              "        google.colab.kernel.accessAllowed ? 'block' : 'none';\n",
              "\n",
              "      async function convertToInteractive(key) {\n",
              "        const element = document.querySelector('#df-e7da3d83-381f-4b03-aaae-38dcd82ecff1');\n",
              "        const dataTable =\n",
              "          await google.colab.kernel.invokeFunction('convertToInteractive',\n",
              "                                                    [key], {});\n",
              "        if (!dataTable) return;\n",
              "\n",
              "        const docLinkHtml = 'Like what you see? Visit the ' +\n",
              "          '<a target=\"_blank\" href=https://colab.research.google.com/notebooks/data_table.ipynb>data table notebook</a>'\n",
              "          + ' to learn more about interactive tables.';\n",
              "        element.innerHTML = '';\n",
              "        dataTable['output_type'] = 'display_data';\n",
              "        await google.colab.output.renderOutput(dataTable, element);\n",
              "        const docLink = document.createElement('div');\n",
              "        docLink.innerHTML = docLinkHtml;\n",
              "        element.appendChild(docLink);\n",
              "      }\n",
              "    </script>\n",
              "  </div>\n",
              "\n",
              "\n",
              "<div id=\"df-4b171ee1-1804-45fa-a3d2-b0cb9bf111d8\">\n",
              "  <button class=\"colab-df-quickchart\" onclick=\"quickchart('df-4b171ee1-1804-45fa-a3d2-b0cb9bf111d8')\"\n",
              "            title=\"Suggest charts\"\n",
              "            style=\"display:none;\">\n",
              "\n",
              "<svg xmlns=\"http://www.w3.org/2000/svg\" height=\"24px\"viewBox=\"0 0 24 24\"\n",
              "     width=\"24px\">\n",
              "    <g>\n",
              "        <path d=\"M19 3H5c-1.1 0-2 .9-2 2v14c0 1.1.9 2 2 2h14c1.1 0 2-.9 2-2V5c0-1.1-.9-2-2-2zM9 17H7v-7h2v7zm4 0h-2V7h2v10zm4 0h-2v-4h2v4z\"/>\n",
              "    </g>\n",
              "</svg>\n",
              "  </button>\n",
              "\n",
              "<style>\n",
              "  .colab-df-quickchart {\n",
              "      --bg-color: #E8F0FE;\n",
              "      --fill-color: #1967D2;\n",
              "      --hover-bg-color: #E2EBFA;\n",
              "      --hover-fill-color: #174EA6;\n",
              "      --disabled-fill-color: #AAA;\n",
              "      --disabled-bg-color: #DDD;\n",
              "  }\n",
              "\n",
              "  [theme=dark] .colab-df-quickchart {\n",
              "      --bg-color: #3B4455;\n",
              "      --fill-color: #D2E3FC;\n",
              "      --hover-bg-color: #434B5C;\n",
              "      --hover-fill-color: #FFFFFF;\n",
              "      --disabled-bg-color: #3B4455;\n",
              "      --disabled-fill-color: #666;\n",
              "  }\n",
              "\n",
              "  .colab-df-quickchart {\n",
              "    background-color: var(--bg-color);\n",
              "    border: none;\n",
              "    border-radius: 50%;\n",
              "    cursor: pointer;\n",
              "    display: none;\n",
              "    fill: var(--fill-color);\n",
              "    height: 32px;\n",
              "    padding: 0;\n",
              "    width: 32px;\n",
              "  }\n",
              "\n",
              "  .colab-df-quickchart:hover {\n",
              "    background-color: var(--hover-bg-color);\n",
              "    box-shadow: 0 1px 2px rgba(60, 64, 67, 0.3), 0 1px 3px 1px rgba(60, 64, 67, 0.15);\n",
              "    fill: var(--button-hover-fill-color);\n",
              "  }\n",
              "\n",
              "  .colab-df-quickchart-complete:disabled,\n",
              "  .colab-df-quickchart-complete:disabled:hover {\n",
              "    background-color: var(--disabled-bg-color);\n",
              "    fill: var(--disabled-fill-color);\n",
              "    box-shadow: none;\n",
              "  }\n",
              "\n",
              "  .colab-df-spinner {\n",
              "    border: 2px solid var(--fill-color);\n",
              "    border-color: transparent;\n",
              "    border-bottom-color: var(--fill-color);\n",
              "    animation:\n",
              "      spin 1s steps(1) infinite;\n",
              "  }\n",
              "\n",
              "  @keyframes spin {\n",
              "    0% {\n",
              "      border-color: transparent;\n",
              "      border-bottom-color: var(--fill-color);\n",
              "      border-left-color: var(--fill-color);\n",
              "    }\n",
              "    20% {\n",
              "      border-color: transparent;\n",
              "      border-left-color: var(--fill-color);\n",
              "      border-top-color: var(--fill-color);\n",
              "    }\n",
              "    30% {\n",
              "      border-color: transparent;\n",
              "      border-left-color: var(--fill-color);\n",
              "      border-top-color: var(--fill-color);\n",
              "      border-right-color: var(--fill-color);\n",
              "    }\n",
              "    40% {\n",
              "      border-color: transparent;\n",
              "      border-right-color: var(--fill-color);\n",
              "      border-top-color: var(--fill-color);\n",
              "    }\n",
              "    60% {\n",
              "      border-color: transparent;\n",
              "      border-right-color: var(--fill-color);\n",
              "    }\n",
              "    80% {\n",
              "      border-color: transparent;\n",
              "      border-right-color: var(--fill-color);\n",
              "      border-bottom-color: var(--fill-color);\n",
              "    }\n",
              "    90% {\n",
              "      border-color: transparent;\n",
              "      border-bottom-color: var(--fill-color);\n",
              "    }\n",
              "  }\n",
              "</style>\n",
              "\n",
              "  <script>\n",
              "    async function quickchart(key) {\n",
              "      const quickchartButtonEl =\n",
              "        document.querySelector('#' + key + ' button');\n",
              "      quickchartButtonEl.disabled = true;  // To prevent multiple clicks.\n",
              "      quickchartButtonEl.classList.add('colab-df-spinner');\n",
              "      try {\n",
              "        const charts = await google.colab.kernel.invokeFunction(\n",
              "            'suggestCharts', [key], {});\n",
              "      } catch (error) {\n",
              "        console.error('Error during call to suggestCharts:', error);\n",
              "      }\n",
              "      quickchartButtonEl.classList.remove('colab-df-spinner');\n",
              "      quickchartButtonEl.classList.add('colab-df-quickchart-complete');\n",
              "    }\n",
              "    (() => {\n",
              "      let quickchartButtonEl =\n",
              "        document.querySelector('#df-4b171ee1-1804-45fa-a3d2-b0cb9bf111d8 button');\n",
              "      quickchartButtonEl.style.display =\n",
              "        google.colab.kernel.accessAllowed ? 'block' : 'none';\n",
              "    })();\n",
              "  </script>\n",
              "</div>\n",
              "    </div>\n",
              "  </div>\n"
            ],
            "application/vnd.google.colaboratory.intrinsic+json": {
              "type": "dataframe",
              "summary": "{\n  \"name\": \"train\",\n  \"rows\": 8,\n  \"fields\": [\n    {\n      \"column\": \"('average_values',)\",\n      \"properties\": {\n        \"dtype\": \"number\",\n        \"std\": 39064.60836608263,\n        \"min\": 0.0,\n        \"max\": 110492.0,\n        \"num_unique_values\": 8,\n        \"samples\": [\n          0.7769895751587036,\n          0.7888462972255155,\n          110492.0\n        ],\n        \"semantic_type\": \"\",\n        \"description\": \"\"\n      }\n    },\n    {\n      \"column\": \"('moda_values',)\",\n      \"properties\": {\n        \"dtype\": \"number\",\n        \"std\": 39064.67468606545,\n        \"min\": 0.0,\n        \"max\": 110492.0,\n        \"num_unique_values\": 8,\n        \"samples\": [\n          0.45540339129869895,\n          0.4462474645030426,\n          110492.0\n        ],\n        \"semantic_type\": \"\",\n        \"description\": \"\"\n      }\n    },\n    {\n      \"column\": \"('median_values',)\",\n      \"properties\": {\n        \"dtype\": \"number\",\n        \"std\": 39064.66157495758,\n        \"min\": 0.0,\n        \"max\": 110492.0,\n        \"num_unique_values\": 8,\n        \"samples\": [\n          0.5159101862807753,\n          0.5145791750596025,\n          110492.0\n        ],\n        \"semantic_type\": \"\",\n        \"description\": \"\"\n      }\n    },\n    {\n      \"column\": \"('variance_values',)\",\n      \"properties\": {\n        \"dtype\": \"number\",\n        \"std\": 39064.66766806576,\n        \"min\": 0.0,\n        \"max\": 110492.0,\n        \"num_unique_values\": 8,\n        \"samples\": [\n          0.4696846091824504,\n          0.4581967051630904,\n          110492.0\n        ],\n        \"semantic_type\": \"\",\n        \"description\": \"\"\n      }\n    },\n    {\n      \"column\": \"('std_values',)\",\n      \"properties\": {\n        \"dtype\": \"number\",\n        \"std\": 39064.65347472331,\n        \"min\": 0.0,\n        \"max\": 110492.0,\n        \"num_unique_values\": 8,\n        \"samples\": [\n          0.5363573055588327,\n          0.5355683581098971,\n          110492.0\n        ],\n        \"semantic_type\": \"\",\n        \"description\": \"\"\n      }\n    },\n    {\n      \"column\": \"('average_days',)\",\n      \"properties\": {\n        \"dtype\": \"number\",\n        \"std\": 39064.70527388767,\n        \"min\": 0.0,\n        \"max\": 110492.0,\n        \"num_unique_values\": 8,\n        \"samples\": [\n          0.29324101366168426,\n          0.26090363537172045,\n          110492.0\n        ],\n        \"semantic_type\": \"\",\n        \"description\": \"\"\n      }\n    },\n    {\n      \"column\": \"('moda_days',)\",\n      \"properties\": {\n        \"dtype\": \"number\",\n        \"std\": 39064.74975429656,\n        \"min\": 0.0,\n        \"max\": 110492.0,\n        \"num_unique_values\": 6,\n        \"samples\": [\n          110492.0,\n          0.10365240645529232,\n          1.0\n        ],\n        \"semantic_type\": \"\",\n        \"description\": \"\"\n      }\n    },\n    {\n      \"column\": \"('median_days',)\",\n      \"properties\": {\n        \"dtype\": \"number\",\n        \"std\": 39064.70538514419,\n        \"min\": 0.0,\n        \"max\": 110492.0,\n        \"num_unique_values\": 8,\n        \"samples\": [\n          0.2927710571159645,\n          0.2607142857142861,\n          110492.0\n        ],\n        \"semantic_type\": \"\",\n        \"description\": \"\"\n      }\n    },\n    {\n      \"column\": \"('variance_days',)\",\n      \"properties\": {\n        \"dtype\": \"number\",\n        \"std\": 39064.683736521285,\n        \"min\": 0.0,\n        \"max\": 110492.0,\n        \"num_unique_values\": 8,\n        \"samples\": [\n          0.39417723947005007,\n          0.3299174976016493,\n          110492.0\n        ],\n        \"semantic_type\": \"\",\n        \"description\": \"\"\n      }\n    },\n    {\n      \"column\": \"('std_days',)\",\n      \"properties\": {\n        \"dtype\": \"number\",\n        \"std\": 39064.66448241071,\n        \"min\": 0.0,\n        \"max\": 110492.0,\n        \"num_unique_values\": 8,\n        \"samples\": [\n          0.47820860774055207,\n          0.44103581918357937,\n          110492.0\n        ],\n        \"semantic_type\": \"\",\n        \"description\": \"\"\n      }\n    },\n    {\n      \"column\": \"('label',)\",\n      \"properties\": {\n        \"dtype\": \"number\",\n        \"std\": 39064.6444584509,\n        \"min\": 0.0,\n        \"max\": 110492.0,\n        \"num_unique_values\": 5,\n        \"samples\": [\n          0.5,\n          1.0,\n          0.5000022626226058\n        ],\n        \"semantic_type\": \"\",\n        \"description\": \"\"\n      }\n    }\n  ]\n}"
            }
          },
          "metadata": {},
          "execution_count": 2
        }
      ]
    },
    {
      "cell_type": "code",
      "source": [
        "cols = train.columns"
      ],
      "metadata": {
        "id": "Ubuizxp4BhdW"
      },
      "execution_count": null,
      "outputs": []
    },
    {
      "cell_type": "code",
      "source": [
        "train.rename(columns = {cols[0]:\"average_values\", cols[1]:\"moda_values\", cols[2]:\"median_values\", cols[3]:\"variance_values\", cols[4]:\"std_values\",\n",
        "                        cols[5]: \"average_days\", cols[6]: \"moda_days\", cols[7]: \"median_days\", cols[8]: \"variance_days\", cols[9]: \"std_days\",\n",
        "                        cols[10]: \"label\"}, inplace = True)"
      ],
      "metadata": {
        "id": "llF77mFCBWGF"
      },
      "execution_count": null,
      "outputs": []
    },
    {
      "cell_type": "markdown",
      "source": [
        "#Train/validation split"
      ],
      "metadata": {
        "id": "2fOBD6W0fwTj"
      }
    },
    {
      "cell_type": "code",
      "source": [
        "X = train.drop(columns = ['label'])\n",
        "y = train['label']\n",
        "\n",
        "X_train, X_val, y_train, y_val = train_test_split(X, y,\n",
        "                                                  test_size = 0.3,\n",
        "                                                  stratify = y,\n",
        "                                                  random_state = 42)\n",
        "\n",
        "print('Train: ', X_train.shape)\n",
        "print('Valudation: ', X_val.shape)"
      ],
      "metadata": {
        "colab": {
          "base_uri": "https://localhost:8080/"
        },
        "id": "gZrksqd3cbwP",
        "outputId": "d431368e-40ac-4c86-f50c-6788dde7d827"
      },
      "execution_count": null,
      "outputs": [
        {
          "output_type": "stream",
          "name": "stdout",
          "text": [
            "Train:  (77344, 10)\n",
            "Valudation:  (33148, 10)\n"
          ]
        }
      ]
    },
    {
      "cell_type": "markdown",
      "source": [
        "#ExtraTrees\n",
        "hyperparametes was chosen by gridSearch, model - by comparing a couple of classification models metrics"
      ],
      "metadata": {
        "id": "JHudbUrBjbYK"
      }
    },
    {
      "cell_type": "code",
      "source": [
        "model_rfc =  ExtraTreesClassifier(criterion = 'gini', n_estimators = 150, bootstrap = True)\n",
        "model_rfc.fit(X_train, y_train) # обучение\n",
        "y_pred = model_rfc.predict(X_val) # предсказание\n",
        "\n",
        "print (\"AUC-ROC (test) = \", metrics.roc_auc_score(y_val, y_pred))"
      ],
      "metadata": {
        "colab": {
          "base_uri": "https://localhost:8080/"
        },
        "id": "HPHF163UiT9Q",
        "outputId": "579a64b0-d055-45f0-a0f4-bf07453a8fb2"
      },
      "execution_count": null,
      "outputs": [
        {
          "output_type": "stream",
          "name": "stdout",
          "text": [
            "AUC-ROC (test) =  0.8826475202123808\n"
          ]
        }
      ]
    },
    {
      "cell_type": "code",
      "source": [
        "probs = model_rfc.predict_proba(X_val)\n",
        "probs"
      ],
      "metadata": {
        "colab": {
          "base_uri": "https://localhost:8080/"
        },
        "id": "AThmTp9hthsz",
        "outputId": "e69e7b0c-ef36-4281-c72c-f57efecee509"
      },
      "execution_count": null,
      "outputs": [
        {
          "output_type": "execute_result",
          "data": {
            "text/plain": [
              "array([[0.  , 1.  ],\n",
              "       [0.  , 1.  ],\n",
              "       [0.94, 0.06],\n",
              "       ...,\n",
              "       [0.  , 1.  ],\n",
              "       [0.06, 0.94],\n",
              "       [0.87, 0.13]])"
            ]
          },
          "metadata": {},
          "execution_count": 9
        }
      ]
    },
    {
      "cell_type": "markdown",
      "source": [
        "# Loading model"
      ],
      "metadata": {
        "id": "sI9tgO3-lrUP"
      }
    },
    {
      "cell_type": "code",
      "source": [
        "from joblib import Parallel, delayed\n",
        "import joblib\n",
        "\n",
        "\n",
        "# Save the model as a pickle in a file\n",
        "joblib.dump(model_rfc, 'model.pkl')"
      ],
      "metadata": {
        "colab": {
          "base_uri": "https://localhost:8080/"
        },
        "id": "aQBPjBTElq9N",
        "outputId": "103cac5d-a571-43ff-d150-48aecab014a5"
      },
      "execution_count": null,
      "outputs": [
        {
          "output_type": "execute_result",
          "data": {
            "text/plain": [
              "['model.pkl']"
            ]
          },
          "metadata": {},
          "execution_count": 6
        }
      ]
    },
    {
      "cell_type": "code",
      "source": [],
      "metadata": {
        "id": "pQ6RHsNzmIRB"
      },
      "execution_count": null,
      "outputs": []
    }
  ]
}